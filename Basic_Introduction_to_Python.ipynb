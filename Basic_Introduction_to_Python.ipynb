{
  "nbformat": 4,
  "nbformat_minor": 0,
  "metadata": {
    "colab": {
      "name": "Basic Introduction to Python",
      "version": "0.3.2",
      "provenance": [],
      "private_outputs": true,
      "collapsed_sections": []
    },
    "kernelspec": {
      "name": "python2",
      "display_name": "Python 2"
    }
  },
  "cells": [
    {
      "cell_type": "markdown",
      "metadata": {
        "id": "view-in-github",
        "colab_type": "text"
      },
      "source": [
        "[View in Colaboratory](https://colab.research.google.com/github/yirui123/DailySketches/blob/master/Basic_Introduction_to_Python.ipynb)"
      ]
    },
    {
      "metadata": {
        "id": "EJeVpfhLhc82",
        "colab_type": "text"
      },
      "cell_type": "markdown",
      "source": [
        "# Basic Introduction to Python\n",
        "\n",
        "Welcome to my Basic Introduction to Python class! I am happy to have you here to teach you about Python.\n",
        "\n",
        "Feel free to ask questions. I can improvise as need-be to explain any concepts that give you difficulty."
      ]
    },
    {
      "metadata": {
        "id": "orJ0tmYhpT_6",
        "colab_type": "text"
      },
      "cell_type": "markdown",
      "source": [
        "# What is Python?\n",
        "\n",
        "Python is a programming language, must like JavaScript or C++. Python is a versatile language that can be used for a variety of tasks ranging from simple utilities to advanced machine learning. There is a large ecosystem of Python libraries that can be leveraged to accomplish your goals. \"Knowning Python\" is as much about knowing which library to use as it is about knowing the language syntax. Libraries can and will save you a lot of time."
      ]
    },
    {
      "metadata": {
        "id": "pH8fU0JAh_NO",
        "colab_type": "text"
      },
      "cell_type": "markdown",
      "source": [
        "# Google Colab? What's that?\n",
        "\n",
        "Google built infrastructure for running Python code on servers in the cloud. This was an internal tool the used for a long time before sharing it with the public. It is a tool that integrates well with Google Drive and other Google Office-like tools like Docs or Sheets. You can share these Colab Notebooks with other people just like you could do with any other Google Drive file.\n",
        "\n",
        "This tool allows you to run Python on a server through your browser. Instead of everything happening locally on the computer in front of you, you will send Python code across the internet to one of Google's servers where they will execute it for you and send the result back to you. Conveniently, that makes Python setup issues a non-issue. It makes it very easy to share code and research with other people.\n",
        "\n",
        "Google Colab also provides GPUs for people who need that sort of thing. We won't use that today but know that it is available when you need it."
      ]
    },
    {
      "metadata": {
        "id": "36VH8-YFa9RG",
        "colab_type": "text"
      },
      "cell_type": "markdown",
      "source": [
        "# A Quick Note on Python Versions...\n",
        "\n",
        "This Colab notebook uses Python 2.7. I picked this version because it is the default Python version found on people's Mac computers. It also happens to be the first version Google Colab supported because internally Google uses Python 2.7. Python 2.7 is widely used globally.\n",
        "\n",
        "Python 2.7 isn't the latest version of Python, however. The newest version of Python people commonly use is Python 3.6. Although the Python 2.7 and Python 3.6 languages are very similar, the new version isn't completely backwards compatible.\n",
        "\n",
        "## Why are you teaching me an old version of Python?\n",
        "\n",
        "I like to make an analogy to British English and American English. British and American English speakers have unique expressions and word usages but everybody can still understand each other. It isn't a real language barrier. If you moved from one country to another you'd be able to adapt quickly.\n",
        "\n",
        "Python 2.7 and 3.6 is kind of like British English and American English. Almost all of it is the same. If you aspire to master Python you will end up being proficient in all versions of Python. But like any journey, Python mastery will start with a single step, and that first step is Python 2.7."
      ]
    },
    {
      "metadata": {
        "id": "6UFh7lhWeV-c",
        "colab_type": "text"
      },
      "cell_type": "markdown",
      "source": [
        "# Basic Python Syntax\n",
        "\n",
        "Below is the most important Python syntax you will need to know."
      ]
    },
    {
      "metadata": {
        "id": "_m6cbajOd37F",
        "colab_type": "text"
      },
      "cell_type": "markdown",
      "source": [
        "First, the obligatory \"Hello World!\" code:"
      ]
    },
    {
      "metadata": {
        "id": "IDFMfBLoyvX_",
        "colab_type": "code",
        "colab": {}
      },
      "cell_type": "code",
      "source": [
        "print('Hello World!')"
      ],
      "execution_count": 0,
      "outputs": []
    },
    {
      "metadata": {
        "id": "zpejmvzUeCXw",
        "colab_type": "text"
      },
      "cell_type": "markdown",
      "source": [
        "Notice the string is using single quotes. I could have just as easily used double quotes:"
      ]
    },
    {
      "metadata": {
        "id": "Ll9XusKZeODZ",
        "colab_type": "code",
        "colab": {}
      },
      "cell_type": "code",
      "source": [
        "print(\"Hello World!\")"
      ],
      "execution_count": 0,
      "outputs": []
    },
    {
      "metadata": {
        "id": "dPfRgHrbcRDo",
        "colab_type": "text"
      },
      "cell_type": "markdown",
      "source": [
        "I also could have left out the parentheses. However, support for the `print` command without parentheses was dropped in Python 3.x. Therefore, you should get used to using parentheses when you use the `print` function."
      ]
    },
    {
      "metadata": {
        "id": "Yfn0GU3fcMY6",
        "colab_type": "code",
        "colab": {}
      },
      "cell_type": "code",
      "source": [
        "print 'Hello World'"
      ],
      "execution_count": 0,
      "outputs": []
    },
    {
      "metadata": {
        "id": "Zjwo8Fmehgeq",
        "colab_type": "text"
      },
      "cell_type": "markdown",
      "source": [
        "What about variables?"
      ]
    },
    {
      "metadata": {
        "id": "aLUT6pXshjWb",
        "colab_type": "code",
        "colab": {}
      },
      "cell_type": "code",
      "source": [
        "name = 'jim'"
      ],
      "execution_count": 0,
      "outputs": []
    },
    {
      "metadata": {
        "id": "PAPNP-ctq4JY",
        "colab_type": "code",
        "colab": {}
      },
      "cell_type": "code",
      "source": [
        "name"
      ],
      "execution_count": 0,
      "outputs": []
    },
    {
      "metadata": {
        "id": "3sywjKVQq__P",
        "colab_type": "code",
        "colab": {}
      },
      "cell_type": "code",
      "source": [
        "print(name)"
      ],
      "execution_count": 0,
      "outputs": []
    },
    {
      "metadata": {
        "id": "h8dY0hVzhmJp",
        "colab_type": "text"
      },
      "cell_type": "markdown",
      "source": [
        "Variables are assigned with the equals sign, just like most other programming languages."
      ]
    },
    {
      "metadata": {
        "id": "mQh6wZFaeiWF",
        "colab_type": "text"
      },
      "cell_type": "markdown",
      "source": [
        "Next, let's look at flow control. Here is a basic for loop. Take careful note of the indentation. I put 4 spaces before the print statement."
      ]
    },
    {
      "metadata": {
        "id": "xkgUoDgNet9e",
        "colab_type": "code",
        "colab": {}
      },
      "cell_type": "code",
      "source": [
        "for i in range(1, 11):\n",
        "    print(i)\n",
        "print('done!')"
      ],
      "execution_count": 0,
      "outputs": []
    },
    {
      "metadata": {
        "id": "j4nGQKG1tGK_",
        "colab_type": "text"
      },
      "cell_type": "markdown",
      "source": [
        "If I were to do the same thing in JavaScript I would write this.\n",
        "\n",
        "```\n",
        "for (i=0; i < 10; i++) {\n",
        "    console.log(i);\n",
        "}\n",
        "```\n",
        "Observe how the indentation replaces the need for curly braces."
      ]
    },
    {
      "metadata": {
        "id": "GA1bwHxJeyb0",
        "colab_type": "text"
      },
      "cell_type": "markdown",
      "source": [
        "What is that `range` function I just used?"
      ]
    },
    {
      "metadata": {
        "id": "MjGVb25fexbd",
        "colab_type": "code",
        "colab": {}
      },
      "cell_type": "code",
      "source": [
        "range(10)"
      ],
      "execution_count": 0,
      "outputs": []
    },
    {
      "metadata": {
        "id": "Rt-YALnSfCie",
        "colab_type": "text"
      },
      "cell_type": "markdown",
      "source": [
        "This is a builtin function, much like the `print` command. You'll see `range` used a lot in your Python lives.\n",
        "\n",
        "By default, it starts at zero. You can also specify the start and end values, like so:"
      ]
    },
    {
      "metadata": {
        "id": "Cj1NB11YgIYt",
        "colab_type": "code",
        "colab": {}
      },
      "cell_type": "code",
      "source": [
        "range(5, 15)"
      ],
      "execution_count": 0,
      "outputs": []
    },
    {
      "metadata": {
        "id": "D3kmAWRvgMDV",
        "colab_type": "text"
      },
      "cell_type": "markdown",
      "source": [
        "Also notice it starts at the first number and ends 1 number before the second number. This seems unintuitive at first but you'll get used to it. Other things will get complicated later if it wasn't like this, so you'll learn to appreciate it.\n",
        "\n",
        "You can also give a step size:"
      ]
    },
    {
      "metadata": {
        "id": "Ee7MVwpugpCu",
        "colab_type": "code",
        "colab": {}
      },
      "cell_type": "code",
      "source": [
        "range(10, 31, 5)"
      ],
      "execution_count": 0,
      "outputs": []
    },
    {
      "metadata": {
        "id": "TQQnOipUg4Im",
        "colab_type": "code",
        "colab": {}
      },
      "cell_type": "code",
      "source": [
        "range(30, 20, -1)"
      ],
      "execution_count": 0,
      "outputs": []
    },
    {
      "metadata": {
        "id": "rZa2ZatlgyeD",
        "colab_type": "text"
      },
      "cell_type": "markdown",
      "source": [
        "Next, let's look at a while loop. Again, note the indentation and the lack of curly braces."
      ]
    },
    {
      "metadata": {
        "id": "C3Dc2TkGg0O0",
        "colab_type": "code",
        "colab": {}
      },
      "cell_type": "code",
      "source": [
        "i = 10\n",
        "\n",
        "while i > 0:\n",
        "    print(i)\n",
        "    i = i - 1"
      ],
      "execution_count": 0,
      "outputs": []
    },
    {
      "metadata": {
        "id": "8bcw7CaVji4l",
        "colab_type": "text"
      },
      "cell_type": "markdown",
      "source": [
        "And of course, an `if` statement."
      ]
    },
    {
      "metadata": {
        "id": "b0TP_wRFjlsr",
        "colab_type": "code",
        "colab": {}
      },
      "cell_type": "code",
      "source": [
        "x = -10\n",
        "\n",
        "if x < 0:\n",
        "    print('negative')\n",
        "else:\n",
        "    print('positive')"
      ],
      "execution_count": 0,
      "outputs": []
    },
    {
      "metadata": {
        "id": "SSCtLwevUY41",
        "colab_type": "text"
      },
      "cell_type": "markdown",
      "source": [
        "Here's an example that uses `elif`. This is useful when you have more than two possible execution paths."
      ]
    },
    {
      "metadata": {
        "id": "syZ3mtkTeRlV",
        "colab_type": "code",
        "colab": {}
      },
      "cell_type": "code",
      "source": [
        "x = -5\n",
        "\n",
        "if x < 0:\n",
        "  print('negative')\n",
        "elif x > 0:\n",
        "  print('positive')\n",
        "else:\n",
        "  print('zero')"
      ],
      "execution_count": 0,
      "outputs": []
    },
    {
      "metadata": {
        "id": "asG_R_LSxNNm",
        "colab_type": "code",
        "colab": {}
      },
      "cell_type": "code",
      "source": [
        "'jim' > 10000"
      ],
      "execution_count": 0,
      "outputs": []
    },
    {
      "metadata": {
        "id": "Gv87dkRHu35B",
        "colab_type": "code",
        "colab": {}
      },
      "cell_type": "code",
      "source": [
        "name"
      ],
      "execution_count": 0,
      "outputs": []
    },
    {
      "metadata": {
        "id": "Ixu4wM5pvmKQ",
        "colab_type": "code",
        "colab": {}
      },
      "cell_type": "code",
      "source": [
        "#@title Default title text\n",
        "5 * 5"
      ],
      "execution_count": 0,
      "outputs": []
    },
    {
      "metadata": {
        "id": "J76pmID1vYrA",
        "colab_type": "text"
      },
      "cell_type": "markdown",
      "source": [
        "Type stuff"
      ]
    },
    {
      "metadata": {
        "id": "riV0wkomwi8n",
        "colab_type": "code",
        "colab": {}
      },
      "cell_type": "code",
      "source": [
        "something = 42"
      ],
      "execution_count": 0,
      "outputs": []
    },
    {
      "metadata": {
        "id": "U2oLUuR5wlU9",
        "colab_type": "code",
        "colab": {}
      },
      "cell_type": "code",
      "source": [
        "does_not_exist"
      ],
      "execution_count": 0,
      "outputs": []
    },
    {
      "metadata": {
        "id": "4sOKnyNcRjA3",
        "colab_type": "text"
      },
      "cell_type": "markdown",
      "source": [
        "# Functions\n",
        "\n",
        "Next we need to know how to define functions. Here's a simple example function:"
      ]
    },
    {
      "metadata": {
        "id": "v9NQ3cf8RoNg",
        "colab_type": "code",
        "colab": {}
      },
      "cell_type": "code",
      "source": [
        "def say_hello_to_the_world():\n",
        "    print('hello world!')"
      ],
      "execution_count": 0,
      "outputs": []
    },
    {
      "metadata": {
        "id": "3M712uNPRuHK",
        "colab_type": "text"
      },
      "cell_type": "markdown",
      "source": [
        "Observe that there are no brackets. Also, the function definition starts with the keyword `def`. The code is indented with 4 spaces.\n",
        "\n",
        "Here's how you use a function:"
      ]
    },
    {
      "metadata": {
        "id": "4IyYjVlvSLEp",
        "colab_type": "code",
        "colab": {}
      },
      "cell_type": "code",
      "source": [
        "say_hello_to_the_world()"
      ],
      "execution_count": 0,
      "outputs": []
    },
    {
      "metadata": {
        "id": "pObp5mVgiDAw",
        "colab_type": "text"
      },
      "cell_type": "markdown",
      "source": [
        "Often times you will want a function to accept parameters. You will also want to return values to the caller. Here's how you do that."
      ]
    },
    {
      "metadata": {
        "id": "dCsCXTudiJCL",
        "colab_type": "code",
        "colab": {}
      },
      "cell_type": "code",
      "source": [
        "def square(x):\n",
        "    return x * x\n",
        "\n",
        "square(10)"
      ],
      "execution_count": 0,
      "outputs": []
    },
    {
      "metadata": {
        "id": "gPWhQNGdiPtC",
        "colab_type": "code",
        "colab": {}
      },
      "cell_type": "code",
      "source": [
        "def addition(a, b):\n",
        "    c = a + b\n",
        "\n",
        "    return c\n",
        "\n",
        "output = addition(10, 5)"
      ],
      "execution_count": 0,
      "outputs": []
    },
    {
      "metadata": {
        "id": "IF5KoO0nzZJl",
        "colab_type": "code",
        "colab": {}
      },
      "cell_type": "code",
      "source": [
        "output"
      ],
      "execution_count": 0,
      "outputs": []
    },
    {
      "metadata": {
        "id": "gCclsa0dzazv",
        "colab_type": "code",
        "colab": {}
      },
      "cell_type": "code",
      "source": [
        "def addition2(a, b):\n",
        "    c = a + b\n",
        "    \n",
        "    print(c)\n",
        "    "
      ],
      "execution_count": 0,
      "outputs": []
    },
    {
      "metadata": {
        "id": "GGq6jvZ8zfZ7",
        "colab_type": "code",
        "colab": {}
      },
      "cell_type": "code",
      "source": [
        "output2 = addition2(10, 5)"
      ],
      "execution_count": 0,
      "outputs": []
    },
    {
      "metadata": {
        "id": "mzILglJ0zo_S",
        "colab_type": "code",
        "colab": {}
      },
      "cell_type": "code",
      "source": [
        "output2"
      ],
      "execution_count": 0,
      "outputs": []
    },
    {
      "metadata": {
        "id": "hYaR2TyJhhiS",
        "colab_type": "text"
      },
      "cell_type": "markdown",
      "source": [
        "Let's try using what we've learned so far to do something more complicated. Try and guess what these functions do before you run them."
      ]
    },
    {
      "metadata": {
        "id": "QymyyHGMSMe-",
        "colab_type": "code",
        "colab": {}
      },
      "cell_type": "code",
      "source": [
        "def function1(x, y):\n",
        "    for i in range(x, y):\n",
        "        if i % 3 == 0:\n",
        "            print(i)"
      ],
      "execution_count": 0,
      "outputs": []
    },
    {
      "metadata": {
        "id": "oekBsXnQjUxE",
        "colab_type": "code",
        "colab": {}
      },
      "cell_type": "code",
      "source": [
        "function1(20, 40)"
      ],
      "execution_count": 0,
      "outputs": []
    },
    {
      "metadata": {
        "id": "uiAc41D4jXPr",
        "colab_type": "code",
        "colab": {}
      },
      "cell_type": "code",
      "source": [
        "def function2(a, b, c):\n",
        "    x = a + b\n",
        "    y = b * c\n",
        "    \n",
        "    if x < y:\n",
        "        for i in range(x, y):\n",
        "            print(i)\n",
        "    else:\n",
        "        for i in range(y, x, 2):\n",
        "            print(i)"
      ],
      "execution_count": 0,
      "outputs": []
    },
    {
      "metadata": {
        "id": "eLK6b6pzkHmv",
        "colab_type": "code",
        "colab": {}
      },
      "cell_type": "code",
      "source": [
        "function2(2, 5, 3)"
      ],
      "execution_count": 0,
      "outputs": []
    },
    {
      "metadata": {
        "id": "wsWrFtjkkL70",
        "colab_type": "code",
        "colab": {}
      },
      "cell_type": "code",
      "source": [
        "function2(50, 14, 3)"
      ],
      "execution_count": 0,
      "outputs": []
    },
    {
      "metadata": {
        "id": "eRVeM0w8y3rc",
        "colab_type": "text"
      },
      "cell_type": "markdown",
      "source": [
        "# Data Structures\n",
        "\n",
        "Here are the basic data structures you will use frequently.\n",
        "\n",
        "## Dictionary\n",
        "\n",
        "A dictionary is kind of like a [JavaScript Object](https://www.w3schools.com/js/js_objects.asp). It stores key-value pairs. It is kind of like a real dictionary of words. Words are like the keys, and the definitions of those words are like the values. Observe that given a specific word it is fast to get the definition, but given a specific definition it is slow to get the word it is associated with. You'd have to read through entire dictionary to find what you are looking for.\n",
        "\n",
        "Here's how you define a dictionary:"
      ]
    },
    {
      "metadata": {
        "id": "UCdq3tb-yve-",
        "colab_type": "code",
        "colab": {}
      },
      "cell_type": "code",
      "source": [
        "dictionary1 = {'one': 1, 'two': 2}\n",
        "\n",
        "dictionary1"
      ],
      "execution_count": 0,
      "outputs": []
    },
    {
      "metadata": {
        "id": "4UM3FOtcHSp6",
        "colab_type": "text"
      },
      "cell_type": "markdown",
      "source": [
        "The keys and values can be of any data type:"
      ]
    },
    {
      "metadata": {
        "id": "_lz8zmLQHRJj",
        "colab_type": "code",
        "colab": {}
      },
      "cell_type": "code",
      "source": [
        "dictionary2 = {1: 'one', 2: 'two'}\n",
        "\n",
        "dictionary2"
      ],
      "execution_count": 0,
      "outputs": []
    },
    {
      "metadata": {
        "id": "VhpPTx4dHlpC",
        "colab_type": "text"
      },
      "cell_type": "markdown",
      "source": [
        "You access a dictionary's data with square brackets, like so:"
      ]
    },
    {
      "metadata": {
        "id": "IYKHPRX81VYj",
        "colab_type": "code",
        "colab": {}
      },
      "cell_type": "code",
      "source": [
        "dictionary1['one']"
      ],
      "execution_count": 0,
      "outputs": []
    },
    {
      "metadata": {
        "id": "PZjoM9mIhvfN",
        "colab_type": "code",
        "colab": {}
      },
      "cell_type": "code",
      "source": [
        "dictionary1['three']"
      ],
      "execution_count": 0,
      "outputs": []
    },
    {
      "metadata": {
        "id": "3GJ3sc7u2A_P",
        "colab_type": "code",
        "colab": {}
      },
      "cell_type": "code",
      "source": [
        "dictionary1.keys()"
      ],
      "execution_count": 0,
      "outputs": []
    },
    {
      "metadata": {
        "id": "pYqX6mLch2Uk",
        "colab_type": "code",
        "colab": {}
      },
      "cell_type": "code",
      "source": [
        "dictionary1.keys()"
      ],
      "execution_count": 0,
      "outputs": []
    },
    {
      "metadata": {
        "id": "cDkhhMYQH0ks",
        "colab_type": "code",
        "colab": {}
      },
      "cell_type": "code",
      "source": [
        "dictionary2[2]"
      ],
      "execution_count": 0,
      "outputs": []
    },
    {
      "metadata": {
        "id": "NFQRdHG2iCua",
        "colab_type": "code",
        "colab": {}
      },
      "cell_type": "code",
      "source": [
        "dictionary2.values()"
      ],
      "execution_count": 0,
      "outputs": []
    },
    {
      "metadata": {
        "id": "pWHz_aTziKlB",
        "colab_type": "code",
        "colab": {}
      },
      "cell_type": "code",
      "source": [
        "for key in dictionary1.keys():\n",
        "  print(dictionary1[key])"
      ],
      "execution_count": 0,
      "outputs": []
    },
    {
      "metadata": {
        "id": "txbyUBQCH821",
        "colab_type": "text"
      },
      "cell_type": "markdown",
      "source": [
        "You can add new key-value pairs at any time."
      ]
    },
    {
      "metadata": {
        "id": "qa2w1-_UH2eg",
        "colab_type": "code",
        "colab": {}
      },
      "cell_type": "code",
      "source": [
        "dictionary1[3] = 'three'"
      ],
      "execution_count": 0,
      "outputs": []
    },
    {
      "metadata": {
        "id": "ir2TpkH7IC5I",
        "colab_type": "text"
      },
      "cell_type": "markdown",
      "source": [
        "You can also change existing key value pairs."
      ]
    },
    {
      "metadata": {
        "id": "gio6JWEKH791",
        "colab_type": "code",
        "colab": {}
      },
      "cell_type": "code",
      "source": [
        "dictionary1[1] = 'uno'"
      ],
      "execution_count": 0,
      "outputs": []
    },
    {
      "metadata": {
        "id": "JUO347CGIN65",
        "colab_type": "text"
      },
      "cell_type": "markdown",
      "source": [
        "You can also remove key-value pairs from dictionaries:"
      ]
    },
    {
      "metadata": {
        "id": "VJtmaSN_Ikwq",
        "colab_type": "code",
        "colab": {}
      },
      "cell_type": "code",
      "source": [
        "dictionary1"
      ],
      "execution_count": 0,
      "outputs": []
    },
    {
      "metadata": {
        "id": "uhgVxioGILus",
        "colab_type": "code",
        "colab": {}
      },
      "cell_type": "code",
      "source": [
        "del dictionary1[3]\n",
        "\n",
        "dictionary1"
      ],
      "execution_count": 0,
      "outputs": []
    },
    {
      "metadata": {
        "id": "fD4MyJGT3uOQ",
        "colab_type": "code",
        "colab": {}
      },
      "cell_type": "code",
      "source": [
        "name"
      ],
      "execution_count": 0,
      "outputs": []
    },
    {
      "metadata": {
        "id": "h52liKhJ3wQT",
        "colab_type": "code",
        "colab": {}
      },
      "cell_type": "code",
      "source": [
        "del name"
      ],
      "execution_count": 0,
      "outputs": []
    },
    {
      "metadata": {
        "id": "maENnyZa1bth",
        "colab_type": "text"
      },
      "cell_type": "markdown",
      "source": [
        "## Lists\n",
        "\n",
        "The next important datastructure is the Python List. This is an *ordered* collection of objects."
      ]
    },
    {
      "metadata": {
        "id": "QGv8_9-r1Tyk",
        "colab_type": "code",
        "colab": {}
      },
      "cell_type": "code",
      "source": [
        "list1 = [0, 10, 20, 30, 40, 50]\n",
        "\n",
        "list1"
      ],
      "execution_count": 0,
      "outputs": []
    },
    {
      "metadata": {
        "id": "PqGVDQxGJunm",
        "colab_type": "text"
      },
      "cell_type": "markdown",
      "source": [
        "The objects do not have to be the same type."
      ]
    },
    {
      "metadata": {
        "id": "nVJBj5g5JxjJ",
        "colab_type": "code",
        "colab": {}
      },
      "cell_type": "code",
      "source": [
        "list2 = ['zero', 10, 20.0, \"thirty\", 40]\n",
        "\n",
        "list2"
      ],
      "execution_count": 0,
      "outputs": []
    },
    {
      "metadata": {
        "id": "REPe1XgNJh04",
        "colab_type": "text"
      },
      "cell_type": "markdown",
      "source": [
        "You can access items in the list with square brackets."
      ]
    },
    {
      "metadata": {
        "id": "LEkCY7e91gp6",
        "colab_type": "code",
        "colab": {}
      },
      "cell_type": "code",
      "source": [
        "list1[2]"
      ],
      "execution_count": 0,
      "outputs": []
    },
    {
      "metadata": {
        "id": "SpyY1jdCKNKq",
        "colab_type": "text"
      },
      "cell_type": "markdown",
      "source": [
        "You can change existing values if you want:"
      ]
    },
    {
      "metadata": {
        "id": "CqnuvTwxKQxZ",
        "colab_type": "code",
        "colab": {}
      },
      "cell_type": "code",
      "source": [
        "list2"
      ],
      "execution_count": 0,
      "outputs": []
    },
    {
      "metadata": {
        "id": "DjLt8hDdKSgH",
        "colab_type": "code",
        "colab": {}
      },
      "cell_type": "code",
      "source": [
        "list2[4] = 40.0\n",
        "\n",
        "list2"
      ],
      "execution_count": 0,
      "outputs": []
    },
    {
      "metadata": {
        "id": "1KBjWr4BKvrH",
        "colab_type": "text"
      },
      "cell_type": "markdown",
      "source": [
        "You can't add new items using the same approach:"
      ]
    },
    {
      "metadata": {
        "id": "d2bjy4NRKzB7",
        "colab_type": "code",
        "colab": {}
      },
      "cell_type": "code",
      "source": [
        "list2[5] = 50"
      ],
      "execution_count": 0,
      "outputs": []
    },
    {
      "metadata": {
        "id": "WoWQ0Pk4LLyN",
        "colab_type": "text"
      },
      "cell_type": "markdown",
      "source": [
        "Instead you have to use an `append` function."
      ]
    },
    {
      "metadata": {
        "id": "JYkAqn-4LShp",
        "colab_type": "text"
      },
      "cell_type": "markdown",
      "source": [
        "You can access subsets of the list using square brackets and a colon."
      ]
    },
    {
      "metadata": {
        "id": "ouugGb59yvhj",
        "colab_type": "code",
        "colab": {}
      },
      "cell_type": "code",
      "source": [
        "list1[1:3]"
      ],
      "execution_count": 0,
      "outputs": []
    },
    {
      "metadata": {
        "id": "v2weZQgRLyVB",
        "colab_type": "text"
      },
      "cell_type": "markdown",
      "source": [
        "Often times you will use this to get the front or the back of the list. You can leave out one of the endpoints like this:"
      ]
    },
    {
      "metadata": {
        "id": "Volow1jeL6mE",
        "colab_type": "code",
        "colab": {}
      },
      "cell_type": "code",
      "source": [
        "list1[:3]"
      ],
      "execution_count": 0,
      "outputs": []
    },
    {
      "metadata": {
        "id": "3CbM2E2dL770",
        "colab_type": "code",
        "colab": {}
      },
      "cell_type": "code",
      "source": [
        "list1[3:]"
      ],
      "execution_count": 0,
      "outputs": []
    },
    {
      "metadata": {
        "id": "0dQu-UszlqbZ",
        "colab_type": "code",
        "colab": {}
      },
      "cell_type": "code",
      "source": [
        "list1[3:1:-1]"
      ],
      "execution_count": 0,
      "outputs": []
    },
    {
      "metadata": {
        "id": "EAAOEWRVL--t",
        "colab_type": "text"
      },
      "cell_type": "markdown",
      "source": [
        "If you want to access the last item of the list you can use a negative number."
      ]
    },
    {
      "metadata": {
        "id": "E4NR4xRuyvj1",
        "colab_type": "code",
        "colab": {}
      },
      "cell_type": "code",
      "source": [
        "list1[-2]"
      ],
      "execution_count": 0,
      "outputs": []
    },
    {
      "metadata": {
        "id": "Aar3GQLjMSMG",
        "colab_type": "text"
      },
      "cell_type": "markdown",
      "source": [
        "Here's a builtin function you will use a lot. The `len` function will return the number of items in the list."
      ]
    },
    {
      "metadata": {
        "id": "Q7Cp0zluMXDm",
        "colab_type": "code",
        "colab": {}
      },
      "cell_type": "code",
      "source": [
        "len(list1)"
      ],
      "execution_count": 0,
      "outputs": []
    },
    {
      "metadata": {
        "id": "1CtBvL82MiGD",
        "colab_type": "text"
      },
      "cell_type": "markdown",
      "source": [
        "This also works for other data structures, like dictionaries."
      ]
    },
    {
      "metadata": {
        "id": "GZoQrqgcMaaP",
        "colab_type": "code",
        "colab": {}
      },
      "cell_type": "code",
      "source": [
        "len(dictionary1)"
      ],
      "execution_count": 0,
      "outputs": []
    },
    {
      "metadata": {
        "id": "DB6JhZg0MsP5",
        "colab_type": "text"
      },
      "cell_type": "markdown",
      "source": [
        "## Tuples\n",
        "\n",
        "The next data structure is a tuple. This is a lot like a list except it is immutable. That means that once you create it, you cannot change what is in the tuple."
      ]
    },
    {
      "metadata": {
        "id": "y59AG1x6M3Lz",
        "colab_type": "code",
        "colab": {}
      },
      "cell_type": "code",
      "source": [
        "tuple1 = (0, 10, 20, 30, 40, 50)\n",
        "\n",
        "tuple1"
      ],
      "execution_count": 0,
      "outputs": []
    },
    {
      "metadata": {
        "id": "hKLeGQM_NE5T",
        "colab_type": "text"
      },
      "cell_type": "markdown",
      "source": [
        "You access tuple items with square brackets."
      ]
    },
    {
      "metadata": {
        "id": "dsyMup8wM86f",
        "colab_type": "code",
        "colab": {}
      },
      "cell_type": "code",
      "source": [
        "tuple1[2]"
      ],
      "execution_count": 0,
      "outputs": []
    },
    {
      "metadata": {
        "id": "nJLKRHbRNJSH",
        "colab_type": "text"
      },
      "cell_type": "markdown",
      "source": [
        "Here's what happens if you try to change a value:"
      ]
    },
    {
      "metadata": {
        "id": "-50M-a23M_1O",
        "colab_type": "code",
        "colab": {}
      },
      "cell_type": "code",
      "source": [
        "tuple1[2] = 2"
      ],
      "execution_count": 0,
      "outputs": []
    },
    {
      "metadata": {
        "id": "VeRidNc0NTuV",
        "colab_type": "text"
      },
      "cell_type": "markdown",
      "source": [
        "You also can't add new items to it either.\n",
        "\n",
        "If tuples have reduced functionality, what good are they?\n",
        "\n",
        "They are useful for dictionaries keys. For example:"
      ]
    },
    {
      "metadata": {
        "id": "llP5w0aRN0dg",
        "colab_type": "code",
        "colab": {}
      },
      "cell_type": "code",
      "source": [
        "dictionary3 = {(1, 2): 'one_two', (3, 4): 'three_four', (5, 6): 'five_six'}\n",
        "\n",
        "dictionary3"
      ],
      "execution_count": 0,
      "outputs": []
    },
    {
      "metadata": {
        "id": "tUqMNNtINy8P",
        "colab_type": "code",
        "colab": {}
      },
      "cell_type": "code",
      "source": [
        "dictionary3[(3, 4)]"
      ],
      "execution_count": 0,
      "outputs": []
    },
    {
      "metadata": {
        "id": "SbSd1aIDOD5J",
        "colab_type": "text"
      },
      "cell_type": "markdown",
      "source": [
        "Now try that with a list:"
      ]
    },
    {
      "metadata": {
        "id": "6Jjb5jgQOC2e",
        "colab_type": "code",
        "colab": {}
      },
      "cell_type": "code",
      "source": [
        "dictionary4 = {[1, 2]: 'one_two', [3, 4]: 'three_four', [5, 6]: 'five_six'}"
      ],
      "execution_count": 0,
      "outputs": []
    },
    {
      "metadata": {
        "id": "9mLlcVPxORRE",
        "colab_type": "text"
      },
      "cell_type": "markdown",
      "source": [
        "It give an error.\n",
        "\n",
        "Another common use case is with functions. Often you will write a function and wish to return more than one item."
      ]
    },
    {
      "metadata": {
        "id": "4cHDDDN4OZBn",
        "colab_type": "code",
        "colab": {}
      },
      "cell_type": "code",
      "source": [
        "def test1(x):\n",
        "    return 5 * x, 5 + x\n",
        "  "
      ],
      "execution_count": 0,
      "outputs": []
    },
    {
      "metadata": {
        "id": "OlG5MDY3PdKy",
        "colab_type": "code",
        "colab": {}
      },
      "cell_type": "code",
      "source": [
        "test1(4)"
      ],
      "execution_count": 0,
      "outputs": []
    },
    {
      "metadata": {
        "id": "8EgHovopPiPx",
        "colab_type": "text"
      },
      "cell_type": "markdown",
      "source": [
        "Notice a tuple was created without the parentheses.\n",
        "\n",
        "If you want to you can \"unpack\" the response into two variables."
      ]
    },
    {
      "metadata": {
        "id": "gtt2haV8PfLF",
        "colab_type": "code",
        "colab": {}
      },
      "cell_type": "code",
      "source": [
        "a, b = test1(4)\n",
        "\n",
        "print(a)\n",
        "print(b)"
      ],
      "execution_count": 0,
      "outputs": []
    },
    {
      "metadata": {
        "id": "0FV4pM4tQBDX",
        "colab_type": "text"
      },
      "cell_type": "markdown",
      "source": [
        "Question: What will this do?"
      ]
    },
    {
      "metadata": {
        "id": "1iZ683crP8mo",
        "colab_type": "code",
        "colab": {}
      },
      "cell_type": "code",
      "source": [
        "a = 10\n",
        "b = 20\n",
        "\n",
        "a, b = b, a\n",
        "\n",
        "print(a)\n",
        "print(b)"
      ],
      "execution_count": 0,
      "outputs": []
    },
    {
      "metadata": {
        "id": "i9AL8fEBQNzD",
        "colab_type": "text"
      },
      "cell_type": "markdown",
      "source": [
        "Often times you will need to know what datatype something is. Here's how you do that."
      ]
    },
    {
      "metadata": {
        "id": "9h67hRn1QHdS",
        "colab_type": "code",
        "colab": {}
      },
      "cell_type": "code",
      "source": [
        "type(list1)"
      ],
      "execution_count": 0,
      "outputs": []
    },
    {
      "metadata": {
        "id": "V1IqJ0CxQv2P",
        "colab_type": "code",
        "colab": {}
      },
      "cell_type": "code",
      "source": [
        "type(dictionary1)"
      ],
      "execution_count": 0,
      "outputs": []
    },
    {
      "metadata": {
        "id": "Mc0XWpGSQxN5",
        "colab_type": "code",
        "colab": {}
      },
      "cell_type": "code",
      "source": [
        "type(tuple1)"
      ],
      "execution_count": 0,
      "outputs": []
    },
    {
      "metadata": {
        "id": "RkRV6RPsQ1Wv",
        "colab_type": "text"
      },
      "cell_type": "markdown",
      "source": [
        "You can also do this:"
      ]
    },
    {
      "metadata": {
        "id": "05ni1-VhQy_m",
        "colab_type": "code",
        "colab": {}
      },
      "cell_type": "code",
      "source": [
        "if isinstance(list1, dict):\n",
        "    print(\"that's a dictionary!\")\n",
        "else:\n",
        "    print(\"that's not a dictionary :-(\")"
      ],
      "execution_count": 0,
      "outputs": []
    },
    {
      "metadata": {
        "id": "C_-tvDauoY7q",
        "colab_type": "code",
        "colab": {}
      },
      "cell_type": "code",
      "source": [
        "isinstance(3.0, (int, float))"
      ],
      "execution_count": 0,
      "outputs": []
    },
    {
      "metadata": {
        "id": "NDEuzX68lfKI",
        "colab_type": "text"
      },
      "cell_type": "markdown",
      "source": [
        "# Comprehensions\n",
        "\n",
        "Now we are going to get a little bit more complicated. Comprehensions are one of the amazing features of Python that I use a ton in my programming. They are kind of like for loops that generate the data structures listed above. To see the value, consider this code:"
      ]
    },
    {
      "metadata": {
        "id": "KbPSjlSSl2Bf",
        "colab_type": "code",
        "colab": {}
      },
      "cell_type": "code",
      "source": [
        "squared_numbers = []\n",
        "\n",
        "for i in range(10):\n",
        "    squared_numbers.append(i * i)\n",
        "\n",
        "squared_numbers"
      ],
      "execution_count": 0,
      "outputs": []
    },
    {
      "metadata": {
        "id": "94JvRvBQmGIK",
        "colab_type": "text"
      },
      "cell_type": "markdown",
      "source": [
        "Wouldn't it be great if you could do that in one line of code?"
      ]
    },
    {
      "metadata": {
        "id": "e7ktf9svRCX2",
        "colab_type": "code",
        "colab": {}
      },
      "cell_type": "code",
      "source": [
        "[i * i for i in range(10)]"
      ],
      "execution_count": 0,
      "outputs": []
    },
    {
      "metadata": {
        "id": "x5D55KZ1mNS8",
        "colab_type": "text"
      },
      "cell_type": "markdown",
      "source": [
        "You can see some of the commonalities. Both use the `for`, `in`, and `range` keywords. The second is more concise.\n",
        "\n",
        "This is especially powerful when combined with functions."
      ]
    },
    {
      "metadata": {
        "id": "AbuzlWgwOQEi",
        "colab_type": "code",
        "colab": {}
      },
      "cell_type": "code",
      "source": [
        "def square(x):\n",
        "    return x * x\n",
        "  \n",
        "[square(i) for i in range(10)]"
      ],
      "execution_count": 0,
      "outputs": []
    },
    {
      "metadata": {
        "id": "Zyas0bFmnFH4",
        "colab_type": "text"
      },
      "cell_type": "markdown",
      "source": [
        "This also works for dictionaries."
      ]
    },
    {
      "metadata": {
        "id": "6ET_7U85NQva",
        "colab_type": "code",
        "colab": {}
      },
      "cell_type": "code",
      "source": [
        "my_squares = {i: square(i) for i in range(0, 20)}\n",
        "\n",
        "my_squares"
      ],
      "execution_count": 0,
      "outputs": []
    },
    {
      "metadata": {
        "id": "ERE57Yc2qUqJ",
        "colab_type": "code",
        "colab": {}
      },
      "cell_type": "code",
      "source": [
        "my_squares.items()"
      ],
      "execution_count": 0,
      "outputs": []
    },
    {
      "metadata": {
        "id": "AqXjk7sZqBnY",
        "colab_type": "code",
        "colab": {}
      },
      "cell_type": "code",
      "source": [
        "for k, v in my_squares.items():\n",
        "  print(k, v)"
      ],
      "execution_count": 0,
      "outputs": []
    },
    {
      "metadata": {
        "id": "H6KWFVTEqPWy",
        "colab_type": "code",
        "colab": {}
      },
      "cell_type": "code",
      "source": [
        "{v: k for k, v in my_squares.items()}"
      ],
      "execution_count": 0,
      "outputs": []
    },
    {
      "metadata": {
        "id": "ga2QWXywnTyV",
        "colab_type": "text"
      },
      "cell_type": "markdown",
      "source": [
        "The neat thing about this is you can quickly create large and complicated data structures. You wouldn't want to type in each dictionary or list item like we did above for a large amount of data. Using a comprehension allows you to quickly and easily build a structure that stores a lot of data.\n",
        "\n",
        "These aren't the easiest thing to understand but they are super important and useful."
      ]
    },
    {
      "metadata": {
        "id": "aVLixlFrnwpR",
        "colab_type": "text"
      },
      "cell_type": "markdown",
      "source": [
        "# Nested Data Structures\n",
        "\n",
        "Consider that you can fit one data structure inside another, like so:"
      ]
    },
    {
      "metadata": {
        "id": "fnBQsCHOM6na",
        "colab_type": "code",
        "colab": {}
      },
      "cell_type": "code",
      "source": [
        "{'vegetables': ['carrots', 'peas'], 'fruits': ['apples', 'oranges']}"
      ],
      "execution_count": 0,
      "outputs": []
    },
    {
      "metadata": {
        "id": "H8BfuS0zoMyA",
        "colab_type": "text"
      },
      "cell_type": "markdown",
      "source": [
        "That is a dictionary with lists as the values."
      ]
    },
    {
      "metadata": {
        "id": "ZSftihWyMhTE",
        "colab_type": "code",
        "colab": {}
      },
      "cell_type": "code",
      "source": [
        "[{'id': 58475, 'city': 'New York'}, {'id': 83753, 'city': 'Washington DC'}]"
      ],
      "execution_count": 0,
      "outputs": []
    },
    {
      "metadata": {
        "id": "Wj7jq6BFo6il",
        "colab_type": "text"
      },
      "cell_type": "markdown",
      "source": [
        "That was a list of dictionaries."
      ]
    },
    {
      "metadata": {
        "id": "-QzQ8yzGfkNx",
        "colab_type": "text"
      },
      "cell_type": "markdown",
      "source": [
        "# Python is Amazing! How can I learn more?\n",
        "\n",
        "Great! Here are some resources for you to learn more.\n",
        "\n",
        "Start with [Code Academy](https://www.codecademy.com/learn/learn-python). When I was at the Data Incubator we required students to use this to get up to speed on the basics of the language.\n",
        "\n",
        "Google also has a nice [Python Class](https://developers.google.com/edu/python/) available online.\n",
        "\n",
        "I'm also a big fan of [HackerRank](https://www.hackerrank.com/domains/python/py-introduction). This will help you learn more about Python and many other languages.\n",
        "\n",
        "It's also a good idea to have a small project in mind that accomplishes something useful with Python. An accessible book I recommend is [Automate the Boring Stuff with Python](https://automatetheboringstuff.com/). It will show you how to do some basic things like send email or scrape data from websites."
      ]
    }
  ]
}